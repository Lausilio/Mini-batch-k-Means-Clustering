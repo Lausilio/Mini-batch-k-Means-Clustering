{
 "cells": [
  {
   "cell_type": "code",
   "execution_count": 35,
   "id": "aba18707",
   "metadata": {},
   "outputs": [
    {
     "data": {
      "image/png": "[encoded data removed]",
      "text/plain": [
       "<Figure size 432x288 with 2 Axes>"
      ]
     },
     "metadata": {
      "needs_background": "light"
     },
     "output_type": "display_data"
    }
   ],
   "source": [
    "import pandas as pd\n",
    "import numpy as np\n",
    "import matplotlib.pyplot as plt\n",
    "import seaborn as sns\n",
    "import statistics as stat\n",
    "\n",
    "workers = [1,1,1,1,2,2,2,2,3,3,3,3]\n",
    "cores = [1,2,3,4,1,2,3,4,1,2,3,4]\n",
    "time = [1,2 ,3 ,4 ,2 ,3 ,4 ,5 ,4 ,6 ,7 ,8] #or creat the array with for loop\n",
    "\n",
    "data = pd.DataFrame({'workers': workers, 'cores': cores, 'time': time})\n",
    "data_pivoted = data.pivot(\"workers\", \"cores\", \"time\")\n",
    "cmap = sns.diverging_palette(130, 18, s=100, l=60, n=10, as_cmap=True)\n",
    "ax = sns.heatmap(data_pivoted, cmap=cmap, center=stat.mean(time))\n",
    "plt.show()\n"
   ]
  },
  {
   "cell_type": "code",
   "execution_count": null,
   "id": "3614b4b0",
   "metadata": {},
   "outputs": [],
   "source": []
  }
 ],
 "metadata": {
  "kernelspec": {
   "display_name": "Python 3 (ipykernel)",
   "language": "python",
   "name": "python3"
  },
  "language_info": {
   "codemirror_mode": {
    "name": "ipython",
    "version": 3
   },
   "file_extension": ".py",
   "mimetype": "text/x-python",
   "name": "python",
   "nbconvert_exporter": "python",
   "pygments_lexer": "ipython3",
   "version": "3.9.7"
  }
 },
 "nbformat": 4,
 "nbformat_minor": 5
}
