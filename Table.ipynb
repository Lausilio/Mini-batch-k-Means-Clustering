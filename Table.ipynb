{
 "cells": [
  {
   "cell_type": "code",
   "execution_count": 36,
   "id": "a099eaed",
   "metadata": {},
   "outputs": [
    {
     "data": {
      "image/png": "[encoded data removed]",
      "text/plain": [
       "<Figure size 432x288 with 2 Axes>"
      ]
     },
     "metadata": {
      "needs_background": "light"
     },
     "output_type": "display_data"
    }
   ],
   "source": [
    "import pandas as pd\n",
    "import numpy as np\n",
    "import matplotlib.pyplot as plt\n",
    "import seaborn as sns\n",
    "import statistics as stat\n",
    "\n",
    "workers = [1,1,1,1,2,2,2,2,3,3,3,3]\n",
    "cores = [1,2,3,4,1,2,3,4,1,2,3,4]\n",
    "time = [1,2 ,3 ,4 ,2 ,3 ,4 ,5 ,4 ,6 ,7 ,8] #or creat the array with for loop\n",
    "\n",
    "data = pd.DataFrame({'workers': workers, 'cores': cores, 'time': time})\n",
    "data_pivoted = data.pivot(\"workers\", \"cores\", \"time\")\n",
    "cmap = sns.diverging_palette(130, 18, s=100, l=60, n=10, as_cmap=True)\n",
    "ax = sns.heatmap(data_pivoted, cmap=cmap, center=stat.mean(time), annot=True)\n",
    "plt.show()\n"
   ]
  },
  {
   "cell_type": "code",
   "execution_count": null,
   "id": "9d96b633",
   "metadata": {},
   "outputs": [],
   "source": [
    "efficiency = []\n",
    "for i in range(9):\n",
    "    x.append()\n",
    "for n in len(works)\n",
    "efficiency[n] = time[n] / cores[n]\n",
    "\n",
    "#mask inefficient settings\n",
    "corr = np.corrcoef(np.random.randn(10, 200))\n",
    "mask = np.zeros_like(corr)\n",
    "mask[np.triu_indices_from(mask)] = True\n",
    "with sns.axes_style(\"white\"):\n",
    "    f, ax = plt.subplots(figsize=(7, 5))\n",
    "    ax = sns.heatmap(corr, mask=mask, vmax=.3, square=True)"
   ]
  }
 ],
 "metadata": {
  "kernelspec": {
   "display_name": "Python 3 (ipykernel)",
   "language": "python",
   "name": "python3"
  },
  "language_info": {
   "codemirror_mode": {
    "name": "ipython",
    "version": 3
   },
   "file_extension": ".py",
   "mimetype": "text/x-python",
   "name": "python",
   "nbconvert_exporter": "python",
   "pygments_lexer": "ipython3",
   "version": "3.9.7"
  }
 },
 "nbformat": 4,
 "nbformat_minor": 5
}
