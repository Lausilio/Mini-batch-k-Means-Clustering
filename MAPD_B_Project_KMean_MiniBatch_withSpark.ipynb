{
 "cells": [
  {
   "cell_type": "markdown",
   "metadata": {},
   "source": [
    "# Group 7 - MAPD-B PROJECT: Distributed algorithms\n",
    "## K-Means: Minibatch using pyspark\n",
    "Team members: Ausilio Lorenzo, Jafarpour Farshad, Martemucci Walter, Prodan George"
   ]
  },
  {
   "cell_type": "markdown",
   "metadata": {},
   "source": [
    "### Initialize spark, imports "
   ]
  },
  {
   "cell_type": "code",
   "execution_count": 1,
   "metadata": {},
   "outputs": [],
   "source": [
    "import findspark\n",
    "findspark.init('/usr/local/spark/')"
   ]
  },
  {
   "cell_type": "code",
   "execution_count": 2,
   "metadata": {
    "scrolled": true
   },
   "outputs": [
    {
     "name": "stdout",
     "output_type": "stream",
     "text": [
      "VIRTUAL_ENV=/usr/local/environments/spark_env\r\n",
      "PYSPARK_PYTHON=/usr/local/environments/spark_env/bin/python3\r\n",
      "SPARK_HOME=/usr/local/spark/\r\n",
      "PATH=/usr/local/environments/spark_env/bin:/usr/local/sbin:/usr/local/bin:/usr/sbin:/usr/bin:/sbin:/bin:/usr/games:/usr/local/games:/snap/bin:/usr/local/spark/bin\r\n"
     ]
    }
   ],
   "source": [
    "# check some of the env variables\n",
    "!env | grep -i spark"
   ]
  },
  {
   "cell_type": "code",
   "execution_count": 38,
   "metadata": {},
   "outputs": [],
   "source": [
    "from pyspark import SparkContext, SparkConf\n",
    "\n",
    "\n",
    "master_url = \"spark://10.67.22.172:7077\"\n",
    "\n",
    "conf = SparkConf()\n",
    "\n",
    "conf.setAppName(\"KMeansMiniBatch\")\n",
    "conf.set(\"spark.blockManager.port\", \"10025\")\n",
    "conf.set(\"spark.driver.blockManager.port\", \"10026\")\n",
    "conf.set(\"spark.driver.port\", \"10027\")  \n",
    "conf.set(\"spark.cores.max\", \"12\") \n",
    "conf.set(\"spark.executor.memory\", \"2g\") \n",
    "conf.set(\"spark.driver.host\", \"10.67.22.172\"); \n",
    "conf.setMaster(master_url)\n",
    "sc = SparkContext(conf = conf)\n"
   ]
  },
  {
   "cell_type": "markdown",
   "metadata": {},
   "source": [
    "Check the content of the SparkSession `spark` object"
   ]
  },
  {
   "cell_type": "code",
   "execution_count": 39,
   "metadata": {},
   "outputs": [
    {
     "data": {
      "text/html": [
       "\n",
       "        <div>\n",
       "            <p><b>SparkContext</b></p>\n",
       "\n",
       "            <p><a href=\"http://10.67.22.172:4040\">Spark UI</a></p>\n",
       "\n",
       "            <dl>\n",
       "              <dt>Version</dt>\n",
       "                <dd><code>v3.2.1</code></dd>\n",
       "              <dt>Master</dt>\n",
       "                <dd><code>spark://10.67.22.172:7077</code></dd>\n",
       "              <dt>AppName</dt>\n",
       "                <dd><code>KMeansMiniBatch</code></dd>\n",
       "            </dl>\n",
       "        </div>\n",
       "        "
      ],
      "text/plain": [
       "<SparkContext master=spark://10.67.22.172:7077 appName=KMeansMiniBatch>"
      ]
     },
     "execution_count": 39,
     "metadata": {},
     "output_type": "execute_result"
    }
   ],
   "source": [
    "sc"
   ]
  },
  {
   "cell_type": "code",
   "execution_count": 65,
   "metadata": {},
   "outputs": [],
   "source": [
    "import numpy as np\n",
    "import time \n",
    "from matplotlib import pyplot as plt \n",
    "import time\n",
    "import numpy\n",
    "import os"
   ]
  },
  {
   "cell_type": "code",
   "execution_count": 66,
   "metadata": {},
   "outputs": [],
   "source": [
    "os.environ[\"PYSPARK_PYTHON\"]=\"/usr/local/environments/spark_env/bin/python3\""
   ]
  },
  {
   "cell_type": "code",
   "execution_count": 28,
   "metadata": {},
   "outputs": [],
   "source": [
    "def find_min(idx):\n",
    "    distances = [np.linalg.norm(X[idx] - centroid, 2) for centroid in C]\n",
    "    return np.argmin(distances)"
   ]
  },
  {
   "cell_type": "code",
   "execution_count": 62,
   "metadata": {},
   "outputs": [],
   "source": [
    "def kmeans(use_spark=True, no_clusters=3, steps=1000, batch_size=400000):\n",
    "    \n",
    "    # 1: Given: k, mini-batch size b, iterations t, data set X\n",
    "    # 2: Initialize each c ∈ C with an x picked randomly from X\n",
    "    # 3: v ← 0\n",
    "    k = no_clusters\n",
    "    b = batch_size\n",
    "    t = steps\n",
    "    C = np.array([X[np.random.randint(0, len(X))] for _ in range(k)])\n",
    "    v = np.zeros(len(C))\n",
    "    Y = np.empty(len(X), dtype=np.int32)\n",
    "    \n",
    "    tic = time.time()\n",
    "    \n",
    "    for i in range(t):\n",
    "            # 4: for i = 1 to t do\n",
    "            # 5: M ← b examples picked randomly from X\n",
    "            mini_batch_idx = np.random.choice(range(len(X)), size=b, replace=False)\n",
    "\n",
    "            # 6: for x ∈ M do\n",
    "            # 7: d[x] ← f (C, x) // Cache the center nearest to x\n",
    "            # 8: end for\n",
    "            # 9: for x ∈ M do\n",
    "            # 10: c ← d[x] // Get cached center for this x\n",
    "            # 11: v[c] ← v[c] + 1 // Update per-center counts\n",
    "            # 12: η ← 1/v[c] // Get per-center learning rate\n",
    "            # 13: c ← (1 − η)c + ηx // Take gradient step\n",
    "            # 14: end for\n",
    "            # 15: end for\n",
    "\n",
    "            if use_spark:\n",
    "                mini_batch = X[mini_batch_idx]\n",
    "                dist_mini_batch_idx = sc.parallelize(mini_batch_idx)\n",
    "                Y[mini_batch_idx] = dist_mini_batch_idx.map(\n",
    "                                    lambda idx: np.argmin((C[:,0] - X[idx][0]) ** 2 + (C[:,1] - X[idx][1]) ** 2)\n",
    "                                    ).collect()\n",
    "            else:    \n",
    "                # this is the classic implementation (https://www.eecs.tufts.edu/~dsculley/papers/fastkmeans.pdf)\n",
    "                for idx in mini_batch_idx:\n",
    "                    Y[idx] = find_min(idx)\n",
    "            for idx in mini_batch_idx:\n",
    "                v[Y[idx]] += 1\n",
    "                learning_rate = 1 / v[Y[idx]]\n",
    "                C[Y[idx]] = (1 - learning_rate) * C[Y[idx]] + learning_rate * X[idx]\n",
    "\n",
    "    toc = time.time()\n",
    "    print('Computation time: ', toc - tic, ' seconds')\n",
    "    return Y"
   ]
  },
  {
   "cell_type": "markdown",
   "metadata": {},
   "source": [
    "### Experiment #1: random sampling on three distributions"
   ]
  },
  {
   "cell_type": "markdown",
   "metadata": {},
   "source": [
    "Firstly, we have created a mock dataset in order to do several fast tests on the algorithm."
   ]
  },
  {
   "cell_type": "code",
   "execution_count": 68,
   "metadata": {},
   "outputs": [],
   "source": [
    "# generate mock dataset\n",
    "c_1 = np.random.normal(0.5, 0.2, (1000000, 2))\n",
    "c_2 = np.random.normal(1.0, 0.2, (1000000, 2))\n",
    "c_3 = np.random.normal(-0.5, 0.2, (1000000, 2))\n",
    "X = np.concatenate((c_1,c_2,c_3))"
   ]
  },
  {
   "cell_type": "code",
   "execution_count": 69,
   "metadata": {},
   "outputs": [],
   "source": [
    "k = 3\n",
    "b = 500000\n",
    "t = 1000\n",
    "C = np.array([X[np.random.randint(0, len(X))] for _ in range(k)])\n",
    "v = np.zeros(len(C))\n",
    "Y = np.empty(len(X), dtype=np.int32)"
   ]
  },
  {
   "cell_type": "code",
   "execution_count": 70,
   "metadata": {},
   "outputs": [
    {
     "name": "stdout",
     "output_type": "stream",
     "text": [
      "time find centroids (classic): 9.117126226425171\n"
     ]
    },
    {
     "name": "stderr",
     "output_type": "stream",
     "text": [
      "22/06/15 15:22:28 WARN TaskSetManager: Stage 220 contains a task of very large size (1170 KiB). The maximum recommended task size is 1000 KiB.\n",
      "[Stage 220:=================================================>       (7 + 1) / 8]\r"
     ]
    },
    {
     "name": "stdout",
     "output_type": "stream",
     "text": [
      "time find centroids (by spark): 2.862954616546631\n"
     ]
    },
    {
     "name": "stderr",
     "output_type": "stream",
     "text": [
      "                                                                                \r"
     ]
    }
   ],
   "source": [
    "mini_batch_idx = np.random.choice(range(len(X)), size=b, replace=False)\n",
    "\n",
    "tic = time.time()\n",
    "for idx in mini_batch_idx:\n",
    "    Y[idx] = find_min(idx)\n",
    "toc = time.time()\n",
    "print('time find centroids (classic):', toc - tic)\n",
    "\n",
    "\n",
    "mini_batch_idx = np.random.choice(range(len(X)), size=b, replace=False)\n",
    "tic = time.time()\n",
    "mini_batch = X[mini_batch_idx]\n",
    "dist_mini_batch_idx = sc.parallelize(mini_batch_idx)\n",
    "Y[mini_batch_idx] = dist_mini_batch_idx.map(lambda idx: np.argmin((C[:,0] - X[idx][0]) ** 2 + (C[:,1] - X[idx][1]) ** 2)).collect()\n",
    "toc = time.time()\n",
    "print('time find centroids (by spark):', toc - tic)\n"
   ]
  },
  {
   "cell_type": "code",
   "execution_count": 72,
   "metadata": {
    "scrolled": false
   },
   "outputs": [
    {
     "name": "stderr",
     "output_type": "stream",
     "text": [
      "                                                                                \r"
     ]
    },
    {
     "name": "stdout",
     "output_type": "stream",
     "text": [
      "Computation time:  55.02375936508179  seconds\n"
     ]
    }
   ],
   "source": [
    "Y = kmeans(use_spark=True, steps=10)"
   ]
  },
  {
   "cell_type": "code",
   "execution_count": 71,
   "metadata": {},
   "outputs": [
    {
     "name": "stdout",
     "output_type": "stream",
     "text": [
      "Computation time:  104.32673597335815  seconds\n"
     ]
    }
   ],
   "source": [
    "Y = kmeans(use_spark=False, steps=10)"
   ]
  },
  {
   "cell_type": "code",
   "execution_count": 1,
   "metadata": {},
   "outputs": [
    {
     "ename": "NameError",
     "evalue": "name 'plt' is not defined",
     "output_type": "error",
     "traceback": [
      "\u001b[0;31m---------------------------------------------------------------------------\u001b[0m",
      "\u001b[0;31mNameError\u001b[0m                                 Traceback (most recent call last)",
      "Input \u001b[0;32mIn [1]\u001b[0m, in \u001b[0;36m<cell line: 1>\u001b[0;34m()\u001b[0m\n\u001b[0;32m----> 1\u001b[0m \u001b[43mplt\u001b[49m\u001b[38;5;241m.\u001b[39mplot(Y)\n\u001b[1;32m      2\u001b[0m plt\u001b[38;5;241m.\u001b[39mylim((\u001b[38;5;241m-\u001b[39m\u001b[38;5;241m3\u001b[39m,\u001b[38;5;241m3\u001b[39m))\n\u001b[1;32m      3\u001b[0m plt\u001b[38;5;241m.\u001b[39mshow()\n",
      "\u001b[0;31mNameError\u001b[0m: name 'plt' is not defined"
     ]
    }
   ],
   "source": [
    "plt.plot(Y)\n",
    "plt.ylim((-3,3))\n",
    "plt.show()"
   ]
  },
  {
   "cell_type": "code",
   "execution_count": 86,
   "metadata": {},
   "outputs": [
    {
     "data": {
      "text/plain": [
       "[<matplotlib.lines.Line2D at 0x7ff50fcfa970>]"
      ]
     },
     "execution_count": 86,
     "metadata": {},
     "output_type": "execute_result"
    },
    {
     "data": {
      "image/png": "[encoded data removed]",
      "text/plain": [
       "<Figure size 432x288 with 1 Axes>"
      ]
     },
     "metadata": {
      "needs_background": "light"
     },
     "output_type": "display_data"
    },
    {
     "name": "stderr",
     "output_type": "stream",
     "text": [
      "22/06/11 13:45:35 WARN HeartbeatReceiver: Removing executor 0 with no recent heartbeats: 67310777 ms exceeds timeout 120000 ms\n",
      "22/06/11 13:45:35 ERROR TaskSchedulerImpl: Lost executor 0 on 192.168.144.128: Executor heartbeat timed out after 67310777 ms\n"
     ]
    }
   ],
   "source": [
    "plt.plot(Y)"
   ]
  },
  {
   "cell_type": "code",
   "execution_count": 82,
   "metadata": {},
   "outputs": [
    {
     "data": {
      "image/png": "[encoded data removed]",
      "text/plain": [
       "<Figure size 432x288 with 2 Axes>"
      ]
     },
     "metadata": {
      "needs_background": "light"
     },
     "output_type": "display_data"
    }
   ],
   "source": [
    "from matplotlib import pyplot as plt\n",
    "import matplotlib.colors as colors\n",
    "\n",
    "# Define a colormap with the right number of colors\n",
    "cmap = plt.cm.get_cmap('jet',max(Y)-min(Y)+1)\n",
    "\n",
    "bounds = range(min(Y),max(Y)+2)\n",
    "norm = colors.BoundaryNorm(bounds, cmap.N)\n",
    "\n",
    "plt.scatter(X[:,0], X[:,1], c=Y, s=50, cmap=cmap, norm=norm)\n",
    "\n",
    "# Add a colorbar. Move the ticks up by 0.5, so they are centred on the colour.\n",
    "cb=plt.colorbar(ticks=np.array(Y)+0.5)\n",
    "cb.set_ticklabels(Y)\n",
    "\n",
    "plt.show()"
   ]
  },
  {
   "cell_type": "code",
   "execution_count": 4,
   "metadata": {},
   "outputs": [],
   "source": [
    "from sklearn.datasets import fetch_rcv1\n",
    "\n",
    "train = fetch_rcv1(subset='train')\n",
    "test = fetch_rcv1(subset='test')\n",
    "\n",
    "X_train = train.data\n",
    "X_test = test.data\n",
    "\n",
    "\n",
    "y_train = train.target\n",
    "y_test = test.target"
   ]
  },
  {
   "cell_type": "markdown",
   "metadata": {},
   "source": [
    "### Stop the running Spark context"
   ]
  },
  {
   "cell_type": "code",
   "execution_count": 37,
   "metadata": {},
   "outputs": [],
   "source": [
    "# \n",
    "sc.stop()"
   ]
  },
  {
   "cell_type": "markdown",
   "metadata": {},
   "source": [
    "### Start Spark services\n",
    "\n",
    "To start the Spark execution in the master and worker nodes, issue the following bash command on the master node:"
   ]
  },
  {
   "cell_type": "code",
   "execution_count": null,
   "metadata": {},
   "outputs": [],
   "source": [
    "!$SPARK_HOME/sbin/start-all.sh"
   ]
  },
  {
   "cell_type": "markdown",
   "metadata": {},
   "source": [
    "### Stop Spark services\n",
    "\n",
    "To stop the Spark execution in the master and worker nodes, issue the following bash command on the master node:"
   ]
  },
  {
   "cell_type": "code",
   "execution_count": 5,
   "metadata": {},
   "outputs": [
    {
     "name": "stdout",
     "output_type": "stream",
     "text": [
      "stopping org.apache.spark.deploy.worker.Worker\r\n"
     ]
    }
   ],
   "source": [
    "!$SPARK_HOME/sbin/stop-all.sh"
   ]
  }
 ],
 "metadata": {
  "kernelspec": {
   "display_name": "Python 3 (ipykernel)",
   "language": "python",
   "name": "python3"
  },
  "language_info": {
   "codemirror_mode": {
    "name": "ipython",
    "version": 3
   },
   "file_extension": ".py",
   "mimetype": "text/x-python",
   "name": "python",
   "nbconvert_exporter": "python",
   "pygments_lexer": "ipython3",
   "version": "3.8.10"
  }
 },
 "nbformat": 4,
 "nbformat_minor": 4
}
