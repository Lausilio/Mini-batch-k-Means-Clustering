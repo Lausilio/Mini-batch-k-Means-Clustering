{
 "cells": [
  {
   "cell_type": "code",
   "execution_count": 1,
   "metadata": {},
   "outputs": [],
   "source": [
    "# set this variable with one of the following values\n",
    "\n",
    "# -> 'local'\n",
    "# -> 'docker_container'\n",
    "# -> 'docker_cluster'\n",
    "\n",
    "CLUSTER_TYPE ='local'"
   ]
  },
  {
   "cell_type": "code",
   "execution_count": 2,
   "metadata": {},
   "outputs": [],
   "source": [
    "import findspark\n",
    "\n",
    "findspark.init('/home/prody/Documents/spark-3.2.1-bin-hadoop3.2/')"
   ]
  },
  {
   "cell_type": "code",
   "execution_count": 3,
   "metadata": {
    "scrolled": true
   },
   "outputs": [
    {
     "name": "stdout",
     "output_type": "stream",
     "text": [
      "PWD=/home/prody/MAPD-B/MAPD-B/spark/notebooks\r\n",
      "PYSPARK_PYTHON=/home/prody/anaconda3/bin/python\r\n",
      "SPARK_HOME=/home/prody/Documents/spark-3.2.1-bin-hadoop3.2/\r\n"
     ]
    }
   ],
   "source": [
    "# check some of the env variables\n",
    "!env | grep -i spark"
   ]
  },
  {
   "cell_type": "code",
   "execution_count": 7,
   "metadata": {},
   "outputs": [
    {
     "name": "stdout",
     "output_type": "stream",
     "text": [
      "starting org.apache.spark.deploy.master.Master, logging to /home/prody/Documents/spark-3.2.1-bin-hadoop3.2//logs/spark-prody-org.apache.spark.deploy.master.Master-1-prody-pc.out\r\n"
     ]
    }
   ],
   "source": [
    "!$SPARK_HOME/sbin/start-master.sh --host localhost --port 7077 --webui-port 8080"
   ]
  },
  {
   "cell_type": "code",
   "execution_count": 8,
   "metadata": {},
   "outputs": [
    {
     "name": "stdout",
     "output_type": "stream",
     "text": [
      "starting org.apache.spark.deploy.worker.Worker, logging to /home/prody/Documents/spark-3.2.1-bin-hadoop3.2//logs/spark-prody-org.apache.spark.deploy.worker.Worker-1-prody-pc.out\r\n"
     ]
    }
   ],
   "source": [
    "!$SPARK_HOME/sbin/start-worker.sh spark://localhost:7077 --cores 4 --memory 2g"
   ]
  },
  {
   "cell_type": "code",
   "execution_count": 9,
   "metadata": {},
   "outputs": [
    {
     "name": "stderr",
     "output_type": "stream",
     "text": [
      "22/06/10 17:06:07 WARN Utils: Your hostname, prody-pc resolves to a loopback address: 127.0.1.1; using 192.168.144.128 instead (on interface wlp3s0)\n",
      "22/06/10 17:06:07 WARN Utils: Set SPARK_LOCAL_IP if you need to bind to another address\n",
      "WARNING: An illegal reflective access operation has occurred\n",
      "WARNING: Illegal reflective access by org.apache.spark.unsafe.Platform (file:/home/prody/Documents/spark-3.2.1-bin-hadoop3.2/jars/spark-unsafe_2.12-3.2.1.jar) to constructor java.nio.DirectByteBuffer(long,int)\n",
      "WARNING: Please consider reporting this to the maintainers of org.apache.spark.unsafe.Platform\n",
      "WARNING: Use --illegal-access=warn to enable warnings of further illegal reflective access operations\n",
      "WARNING: All illegal access operations will be denied in a future release\n",
      "Using Spark's default log4j profile: org/apache/spark/log4j-defaults.properties\n",
      "Setting default log level to \"WARN\".\n",
      "To adjust logging level use sc.setLogLevel(newLevel). For SparkR, use setLogLevel(newLevel).\n",
      "22/06/10 17:06:08 WARN NativeCodeLoader: Unable to load native-hadoop library for your platform... using builtin-java classes where applicable\n"
     ]
    }
   ],
   "source": [
    "from pyspark.sql import SparkSession\n",
    "\n",
    "# if Spark is run either in Local of Single-Container mode\n",
    "if CLUSTER_TYPE in ['local', 'docker_container']:\n",
    "    \n",
    "    # build a SparkSession \n",
    "    #   connect to the master node (address `localhost`) and the port where the master node is listening (7077)\n",
    "    #   declare the app name \n",
    "    #   either connect or create a new context\n",
    "    spark = SparkSession.builder \\\n",
    "        .master(\"spark://localhost:7077\")\\\n",
    "        .appName(\"First spark application\")\\\n",
    "        .getOrCreate()\n",
    "\n",
    "# if Spark is run as Docker Container cluster (with docker-compose)\n",
    "elif CLUSTER_TYPE == 'docker_cluster':\n",
    "    \n",
    "    # build a SparkSession \n",
    "    #   connect to the master node (address `spark-master`) and the port where the master node is listening (7077)\n",
    "    #   declare the app name \n",
    "    #   configure the executor memory to 512 MB\n",
    "    #   either connect or create a new context\n",
    "    spark = SparkSession.builder \\\n",
    "        .master(\"spark://spark-master:7077\")\\\n",
    "        .appName(\"First spark application\")\\\n",
    "        .config(\"spark.executor.memory\", \"512m\")\\\n",
    "        .getOrCreate()\n",
    "else:\n",
    "    print(\"Variable CLUSTER_TYPE is not set.\")\n"
   ]
  },
  {
   "cell_type": "markdown",
   "metadata": {},
   "source": [
    "Check the content of the SparkSession `spark` object"
   ]
  },
  {
   "cell_type": "code",
   "execution_count": 10,
   "metadata": {},
   "outputs": [
    {
     "data": {
      "text/html": [
       "\n",
       "            <div>\n",
       "                <p><b>SparkSession - in-memory</b></p>\n",
       "                \n",
       "        <div>\n",
       "            <p><b>SparkContext</b></p>\n",
       "\n",
       "            <p><a href=\"http://192.168.144.128:4040\">Spark UI</a></p>\n",
       "\n",
       "            <dl>\n",
       "              <dt>Version</dt>\n",
       "                <dd><code>v3.2.1</code></dd>\n",
       "              <dt>Master</dt>\n",
       "                <dd><code>spark://localhost:7077</code></dd>\n",
       "              <dt>AppName</dt>\n",
       "                <dd><code>First spark application</code></dd>\n",
       "            </dl>\n",
       "        </div>\n",
       "        \n",
       "            </div>\n",
       "        "
      ],
      "text/plain": [
       "<pyspark.sql.session.SparkSession at 0x7ff529054a00>"
      ]
     },
     "execution_count": 10,
     "metadata": {},
     "output_type": "execute_result"
    }
   ],
   "source": [
    "spark"
   ]
  },
  {
   "cell_type": "markdown",
   "metadata": {},
   "source": [
    "Get the SparkContext object from the SparkSession \n",
    "\n",
    "The SparkContext is the main entry point for all Spark functionalities, and it is used to work with RDDs"
   ]
  },
  {
   "cell_type": "code",
   "execution_count": 11,
   "metadata": {},
   "outputs": [
    {
     "data": {
      "text/html": [
       "\n",
       "        <div>\n",
       "            <p><b>SparkContext</b></p>\n",
       "\n",
       "            <p><a href=\"http://192.168.144.128:4040\">Spark UI</a></p>\n",
       "\n",
       "            <dl>\n",
       "              <dt>Version</dt>\n",
       "                <dd><code>v3.2.1</code></dd>\n",
       "              <dt>Master</dt>\n",
       "                <dd><code>spark://localhost:7077</code></dd>\n",
       "              <dt>AppName</dt>\n",
       "                <dd><code>First spark application</code></dd>\n",
       "            </dl>\n",
       "        </div>\n",
       "        "
      ],
      "text/plain": [
       "<SparkContext master=spark://localhost:7077 appName=First spark application>"
      ]
     },
     "execution_count": 11,
     "metadata": {},
     "output_type": "execute_result"
    }
   ],
   "source": [
    "sc = spark.sparkContext\n",
    "sc"
   ]
  },
  {
   "cell_type": "code",
   "execution_count": 78,
   "metadata": {},
   "outputs": [],
   "source": [
    "import numpy as np\n",
    "import time \n",
    "from matplotlib import pyplot as plt \n",
    "# generate mock dataset\n",
    "c_1 = np.random.normal(0.5, 0.2, (100, 2))\n",
    "c_2 = np.random.normal(1.0, 0.2, (100, 2))\n",
    "c_3 = np.random.normal(-0.5, 0.2, (100, 2))\n",
    "X = np.concatenate((c_1,c_2,c_3))\n",
    "\n",
    "import numpy as np\n"
   ]
  },
  {
   "cell_type": "code",
   "execution_count": 13,
   "metadata": {},
   "outputs": [],
   "source": [
    "def find_min(idx):\n",
    "    distances = [np.linalg.norm(X[idx] - centroid, 2) for centroid in C]\n",
    "    return np.argmin(distances)"
   ]
  },
  {
   "cell_type": "code",
   "execution_count": 38,
   "metadata": {},
   "outputs": [],
   "source": [
    "def update_centroids(c, assigned_samples):\n",
    "    # trying to create a function to use with spark in order to compute the new centroids in the second for\n",
    "    c_idx = np.where(C == c)[0][0]\n",
    "    for idx in assigned_samples[c_idx]:\n",
    "        v[c_idx] += 1\n",
    "        learning_rate = 1 / v[c_idx]\n",
    "        c = (1 - learning_rate) * c + learning_rate * X[idx]\n",
    "    return c"
   ]
  },
  {
   "cell_type": "code",
   "execution_count": 40,
   "metadata": {},
   "outputs": [
    {
     "name": "stderr",
     "output_type": "stream",
     "text": [
      "                                                                                \r"
     ]
    },
    {
     "name": "stdout",
     "output_type": "stream",
     "text": [
      "[array([-0.33707472, -0.34017695]), array([0.60329634, 0.62808746]), array([1.07766444, 1.04342482])]\n"
     ]
    },
    {
     "name": "stderr",
     "output_type": "stream",
     "text": [
      "                                                                                \r"
     ]
    },
    {
     "name": "stdout",
     "output_type": "stream",
     "text": [
      "[array([-0.34923099, -0.35219853]), array([0.59622484, 0.61920211]), array([1.07283254, 1.04178335])]\n"
     ]
    }
   ],
   "source": [
    "\n",
    "mini_batch_idx = np.random.choice(range(len(X)), size=b, replace=False)\n",
    "mini_batch = X[mini_batch_idx]\n",
    "dist_mini_batch_idx = sc.parallelize(mini_batch_idx)\n",
    "Y[mini_batch_idx] = dist_mini_batch_idx.map(find_min).collect()\n",
    "assignments = [[]] * k\n",
    "for c_idx in range(k):\n",
    "    assignments[c_idx] = dist_mini_batch_idx.filter(lambda idx: Y[idx] == c_idx).collect()\n",
    "\n",
    "dist_C = sc.parallelize(C)\n",
    "enum_C = sc.parallelize(range(k))\n",
    "\n",
    "print(C)\n",
    "C = dist_C.map(lambda c: update_centroids(c, assignments)).collect()\n",
    "v = enum_C.map(lambda idx: v[idx] + len(assignments[idx])).collect()\n",
    "print(C)\n"
   ]
  },
  {
   "cell_type": "code",
   "execution_count": 79,
   "metadata": {},
   "outputs": [],
   "source": [
    "# dist_data.map(lambda x: x + 1).collect()\n",
    "# count_circle = points_rdd \\\n",
    "#     .map(lambda r: random.random() ** 2 + random.random() ** 2) \\\n",
    "#     .filter(lambda r: r < 1) \\\n",
    "#     .count()\n",
    "# points_in_circle = points_rdd.map(in_circle).reduce(lambda x, y: x + y)\n",
    "\n",
    "from pyspark.sql.functions import udf\n",
    "\n",
    "# 4: for i = 1 to t do\n",
    "# 5: M ← b examples picked randomly from X\n",
    "\n",
    "def kmeans(use_spark=True, no_clusters=3, steps=1000, batch_size=100):\n",
    "    \n",
    "    def update_centroids(c, assigned_samples):\n",
    "        c_idx = np.where(C == c)[0][0]\n",
    "        for idx in assigned_samples[c_idx]:\n",
    "            v[c_idx] += 1\n",
    "            learning_rate = 1 / v[c_idx]\n",
    "            c = (1 - learning_rate) * c + learning_rate * X[idx]\n",
    "        return c\n",
    "     \n",
    "    def find_min(idx):\n",
    "        distances = [np.linalg.norm(X[idx] - centroid, 2) for centroid in C]\n",
    "        return np.argmin(distances)\n",
    "\n",
    "    # 1: Given: k, mini-batch size b, iterations t, data set X\n",
    "    # 2: Initialize each c ∈ C with an x picked randomly from X\n",
    "    # 3: v ← 0\n",
    "    k = no_clusters\n",
    "    b = batch_size\n",
    "    t = steps\n",
    "    C = np.array([X[np.random.randint(0, len(X))] for _ in range(k)])\n",
    "    v = np.zeros(len(C))\n",
    "    Y = np.empty(len(X), dtype=np.int32)\n",
    "    if use_spark: enum_C = sc.parallelize(range(k))\n",
    "    \n",
    "    tic = time.time()\n",
    "    \n",
    "    for i in range(t):\n",
    "            mini_batch_idx = np.random.choice(range(len(X)), size=b, replace=False)\n",
    "\n",
    "            # 6: for x ∈ M do\n",
    "            # 7: d[x] ← f (C, x) // Cache the center nearest to x\n",
    "            # 8: end for\n",
    "            # 9: for x ∈ M do\n",
    "            # 10: c ← d[x] // Get cached center for this x\n",
    "            # 11: v[c] ← v[c] + 1 // Update per-center counts\n",
    "            # 12: η ← 1/v[c] // Get per-center learning rate\n",
    "            # 13: c ← (1 − η)c + ηx // Take gradient step\n",
    "            # 14: end for\n",
    "            # 15: end for\n",
    "\n",
    "            if use_spark is True:\n",
    "                # I am still working on the second for (to compute the new centroids)\n",
    "                mini_batch = X[mini_batch_idx]\n",
    "                dist_mini_batch_idx = sc.parallelize(mini_batch_idx)\n",
    "                Y[mini_batch_idx] = dist_mini_batch_idx.map(find_min).collect()\n",
    "                assignments = [[]] * k\n",
    "                for c_idx in range(k):\n",
    "                    assignments[c_idx] = dist_mini_batch_idx.filter(lambda idx: Y[idx] == c_idx).collect()\n",
    "                dist_C = sc.parallelize(C)\n",
    "                \n",
    "                C = dist_C.map(lambda c: update_centroids(c, assignments)).collect()\n",
    "                v = enum_C.map(lambda idx: v[idx] + len(assignments[idx])).collect()\n",
    "            else:    \n",
    "                # this is the classic implementation (https://www.eecs.tufts.edu/~dsculley/papers/fastkmeans.pdf)\n",
    "                for idx in mini_batch_idx:\n",
    "                    Y[idx] = find_min(idx)\n",
    "                for idx in mini_batch_idx:\n",
    "                    v[Y[idx]] += 1\n",
    "                    learning_rate = 1 / v[Y[idx]]\n",
    "                    C[Y[idx]] = (1 - learning_rate) * C[Y[idx]] + learning_rate * X[idx]\n",
    "\n",
    "    toc = time.time()\n",
    "    print('Computation time: ', toc - tic, ' seconds')\n",
    "    return Y"
   ]
  },
  {
   "cell_type": "code",
   "execution_count": 80,
   "metadata": {
    "scrolled": false
   },
   "outputs": [
    {
     "name": "stdout",
     "output_type": "stream",
     "text": [
      "Computation time:  332.26538729667664  seconds\n"
     ]
    }
   ],
   "source": [
    "Y = kmeans(use_spark=True)"
   ]
  },
  {
   "cell_type": "code",
   "execution_count": 85,
   "metadata": {},
   "outputs": [
    {
     "name": "stdout",
     "output_type": "stream",
     "text": [
      "Computation time:  2.612644672393799  seconds\n"
     ]
    }
   ],
   "source": [
    "Y = kmeans(use_spark=False)"
   ]
  },
  {
   "cell_type": "code",
   "execution_count": 81,
   "metadata": {},
   "outputs": [
    {
     "data": {
      "text/plain": [
       "[<matplotlib.lines.Line2D at 0x7ff515c5a4c0>]"
      ]
     },
     "execution_count": 81,
     "metadata": {},
     "output_type": "execute_result"
    },
    {
     "data": {
      "image/png": "[encoded data removed]",
      "text/plain": [
       "<Figure size 432x288 with 1 Axes>"
      ]
     },
     "metadata": {
      "needs_background": "light"
     },
     "output_type": "display_data"
    }
   ],
   "source": [
    "plt.plot(Y)"
   ]
  },
  {
   "cell_type": "code",
   "execution_count": 86,
   "metadata": {},
   "outputs": [
    {
     "data": {
      "text/plain": [
       "[<matplotlib.lines.Line2D at 0x7ff50fcfa970>]"
      ]
     },
     "execution_count": 86,
     "metadata": {},
     "output_type": "execute_result"
    },
    {
     "data": {
      "image/png": "[encoded data removed]",
      "text/plain": [
       "<Figure size 432x288 with 1 Axes>"
      ]
     },
     "metadata": {
      "needs_background": "light"
     },
     "output_type": "display_data"
    }
   ],
   "source": [
    "plt.plot(Y)"
   ]
  },
  {
   "cell_type": "code",
   "execution_count": 82,
   "metadata": {},
   "outputs": [
    {
     "data": {
      "image/png": "[encoded data removed]",
      "text/plain": [
       "<Figure size 432x288 with 2 Axes>"
      ]
     },
     "metadata": {
      "needs_background": "light"
     },
     "output_type": "display_data"
    }
   ],
   "source": [
    "from matplotlib import pyplot as plt\n",
    "import matplotlib.colors as colors\n",
    "\n",
    "# Define a colormap with the right number of colors\n",
    "cmap = plt.cm.get_cmap('jet',max(Y)-min(Y)+1)\n",
    "\n",
    "bounds = range(min(Y),max(Y)+2)\n",
    "norm = colors.BoundaryNorm(bounds, cmap.N)\n",
    "\n",
    "plt.scatter(X[:,0], X[:,1], c=Y, s=50, cmap=cmap, norm=norm)\n",
    "\n",
    "# Add a colorbar. Move the ticks up by 0.5, so they are centred on the colour.\n",
    "cb=plt.colorbar(ticks=np.array(Y)+0.5)\n",
    "cb.set_ticklabels(Y)\n",
    "\n",
    "plt.show()"
   ]
  },
  {
   "cell_type": "markdown",
   "metadata": {},
   "source": [
    "# Stop worker and master"
   ]
  },
  {
   "cell_type": "code",
   "execution_count": 7,
   "metadata": {},
   "outputs": [
    {
     "ename": "NameError",
     "evalue": "name 'sc' is not defined",
     "output_type": "error",
     "traceback": [
      "\u001b[0;31m---------------------------------------------------------------------------\u001b[0m",
      "\u001b[0;31mNameError\u001b[0m                                 Traceback (most recent call last)",
      "\u001b[0;32m/tmp/ipykernel_348424/3584330306.py\u001b[0m in \u001b[0;36m<module>\u001b[0;34m\u001b[0m\n\u001b[1;32m      1\u001b[0m \u001b[0;31m# stop the running Spark context\u001b[0m\u001b[0;34m\u001b[0m\u001b[0;34m\u001b[0m\u001b[0m\n\u001b[0;32m----> 2\u001b[0;31m \u001b[0msc\u001b[0m\u001b[0;34m.\u001b[0m\u001b[0mstop\u001b[0m\u001b[0;34m(\u001b[0m\u001b[0;34m)\u001b[0m\u001b[0;34m\u001b[0m\u001b[0;34m\u001b[0m\u001b[0m\n\u001b[0m",
      "\u001b[0;31mNameError\u001b[0m: name 'sc' is not defined"
     ]
    }
   ],
   "source": [
    "# stop the running Spark context\n",
    "sc.stop()"
   ]
  },
  {
   "cell_type": "code",
   "execution_count": 8,
   "metadata": {},
   "outputs": [
    {
     "ename": "NameError",
     "evalue": "name 'spark' is not defined",
     "output_type": "error",
     "traceback": [
      "\u001b[0;31m---------------------------------------------------------------------------\u001b[0m",
      "\u001b[0;31mNameError\u001b[0m                                 Traceback (most recent call last)",
      "\u001b[0;32m/tmp/ipykernel_348424/1698398880.py\u001b[0m in \u001b[0;36m<module>\u001b[0;34m\u001b[0m\n\u001b[1;32m      1\u001b[0m \u001b[0;31m# stop the running Spark session\u001b[0m\u001b[0;34m\u001b[0m\u001b[0;34m\u001b[0m\u001b[0m\n\u001b[0;32m----> 2\u001b[0;31m \u001b[0mspark\u001b[0m\u001b[0;34m.\u001b[0m\u001b[0mstop\u001b[0m\u001b[0;34m(\u001b[0m\u001b[0;34m)\u001b[0m\u001b[0;34m\u001b[0m\u001b[0;34m\u001b[0m\u001b[0m\n\u001b[0m",
      "\u001b[0;31mNameError\u001b[0m: name 'spark' is not defined"
     ]
    }
   ],
   "source": [
    "# stop the running Spark session\n",
    "spark.stop()"
   ]
  },
  {
   "cell_type": "markdown",
   "metadata": {},
   "source": [
    "### Stop Spark services - Local cluster\n",
    "\n",
    "To stop the Spark execution in the master and worker nodes, issue the following bash commands"
   ]
  },
  {
   "cell_type": "code",
   "execution_count": 5,
   "metadata": {},
   "outputs": [
    {
     "name": "stdout",
     "output_type": "stream",
     "text": [
      "stopping org.apache.spark.deploy.worker.Worker\r\n"
     ]
    }
   ],
   "source": [
    "!$SPARK_HOME/sbin/stop-worker.sh"
   ]
  },
  {
   "cell_type": "code",
   "execution_count": 6,
   "metadata": {},
   "outputs": [
    {
     "name": "stdout",
     "output_type": "stream",
     "text": [
      "stopping org.apache.spark.deploy.master.Master\r\n"
     ]
    }
   ],
   "source": [
    "!$SPARK_HOME/sbin/stop-master.sh"
   ]
  },
  {
   "cell_type": "markdown",
   "metadata": {},
   "source": [
    "### Stop Spark services - Docker container(s)\n",
    "\n",
    "For the single Docker container, it is sufficient to stop and close the running container.\n",
    "\n",
    "For the Docker cluster, use `docker-compose down` to stop and clear all running containers."
   ]
  }
 ],
 "metadata": {
  "kernelspec": {
   "display_name": "Python 3 (ipykernel)",
   "language": "python",
   "name": "python3"
  },
  "language_info": {
   "codemirror_mode": {
    "name": "ipython",
    "version": 3
   },
   "file_extension": ".py",
   "mimetype": "text/x-python",
   "name": "python",
   "nbconvert_exporter": "python",
   "pygments_lexer": "ipython3",
   "version": "3.9.7"
  }
 },
 "nbformat": 4,
 "nbformat_minor": 4
}
