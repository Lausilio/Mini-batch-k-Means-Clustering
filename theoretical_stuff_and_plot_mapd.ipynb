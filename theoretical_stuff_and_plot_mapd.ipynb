{
 "cells": [
  {
   "cell_type": "markdown",
   "id": "76ad86eb",
   "metadata": {},
   "source": [
    "# 1.Performance Evaluation"
   ]
  },
  {
   "cell_type": "markdown",
   "id": "d412ae69",
   "metadata": {},
   "source": [
    "## 1.1 Theoretical Approach"
   ]
  },
  {
   "cell_type": "markdown",
   "id": "d227095a",
   "metadata": {},
   "source": [
    "### 1.1.1 Definitions : \n",
    "- `Performance` is an attribute that refers to the total elapsed time of an algorithm's execution. Less elapsed time = higher performance <br>\n",
    "- `Speed up` is a metric that quantifies performance : $\\boxed{S(n)=\\frac{t_s}{t_p(n)}} $ where $t_s$ : time needed to run on one processor and $t_p(n)$ is the time needed to run on $n$ processors <br>\n",
    "- `Efficiency` is a metric that builds on top of Speed up up by adding awareness of the underlying hardware. $\\boxed{\\eta_s=\\frac{S(n)}{n}} $. \n",
    "    - As a rule of thumb $\\eta_s$ should be $\\ge$ 0.5  \n",
    "If $\\eta_s = 0.5$ , only half of the processors\n",
    "were used to gain the speedup and the other half were idle."
   ]
  },
  {
   "cell_type": "markdown",
   "id": "b0e75f94",
   "metadata": {},
   "source": [
    "We can use these to estimate how much computing power is used to carry out calculations vs how much is used for communication between the parallel processes.<br>"
   ]
  },
  {
   "cell_type": "markdown",
   "id": "e7aa880b",
   "metadata": {},
   "source": [
    "### 1.1.2 Amdahl's law:\n",
    "Is used to predict the theoretical maximum `Speed up` when using multiple processors. <br>\n",
    "- stated as : $\\boxed{S(n)_{max} = \\frac{1}{(1-p)+ \\frac{p}{n}}} $ where <br>\n",
    "    - p : fraction of parallelizable processing\n",
    "    - 1-p : fraction of serial processing (which can't be parallelized)\n",
    "    - n : number of processing units <br>\n",
    "- and $\\boxed{\\lim_{n \\to +\\infty} S(n)_{max} = \\frac{1}{1-p}} $ which can be used when the number of processing units is very large. <br> <br>\n",
    "__Even if $n \\to +\\infty$, the Speed up will be capped by the serial part.__ <br>\n",
    "__Often considered as pessimistic.__"
   ]
  },
  {
   "cell_type": "markdown",
   "id": "ea752016",
   "metadata": {},
   "source": [
    "<img src=\"./Amdahls_Law.png\" width=\"500\" height=\"500\" align=\"center\"/>"
   ]
  },
  {
   "cell_type": "markdown",
   "id": "950542bb",
   "metadata": {},
   "source": [
    "__The greater the parallel portion, the more processors are needed to attain the theoretical limit.__"
   ]
  },
  {
   "cell_type": "markdown",
   "id": "413f2427",
   "metadata": {},
   "source": [
    "__In our case p was measured to be 0.9936 $\\rightarrow$ roughly 99% of exection time is spent doing parallel tasks. The sequential part for us was only the update of the clusters.__"
   ]
  },
  {
   "cell_type": "markdown",
   "id": "c290a995",
   "metadata": {},
   "source": [
    "<img src=\"./amdahls_law_ourP.png\" width=\"650\" height=\"650\" align=\"center\"/>"
   ]
  },
  {
   "cell_type": "markdown",
   "id": "368fc72f",
   "metadata": {},
   "source": [
    "__Following Amdahl's Law, the amount of processors needed to reach the maximum Speedup is very large.__ <br> <br>\n",
    "__We can compare this to what we actually were able to observe using the virtual machines :__"
   ]
  },
  {
   "cell_type": "markdown",
   "id": "1c35aa92",
   "metadata": {},
   "source": [
    "<img src=\"./amdahls_law_vs_our_with_Ebars.png\" width=\"650\" height=\"650\" align=\"center\"/>"
   ]
  },
  {
   "cell_type": "markdown",
   "id": "2667c5a7",
   "metadata": {},
   "source": [
    "### 1.1.3 Gustafson's Law \n"
   ]
  },
  {
   "cell_type": "markdown",
   "id": "874d49e3",
   "metadata": {},
   "source": [
    "- Another way to compute the theoretical maximum `Speed up` <br>\n",
    "- stated as $\\boxed{S(n)_{max} = s + p*n} $ where\n",
    "    - s : serial fraction time\n",
    "    - p : parallel fraction time\n",
    "    - n : number of processors"
   ]
  },
  {
   "cell_type": "markdown",
   "id": "dc8a2f70",
   "metadata": {},
   "source": [
    "<img src=\"./gustafsons_law.png\" width=\"550\" height=\"550\" align=\"center\"/>"
   ]
  },
  {
   "cell_type": "markdown",
   "id": "deff0bbc",
   "metadata": {},
   "source": [
    "__Addresses shortcomings of Amdahl's Law :  Gustafson's law tells us that attainable speedup is often related to problem size not just the number of processors used. In essence Amdahl’s law assumes that the percentage of serial code is independent of problem size.__"
   ]
  },
  {
   "cell_type": "markdown",
   "id": "6700e907",
   "metadata": {},
   "source": [
    "### 1.1.4 Efficiency"
   ]
  },
  {
   "cell_type": "markdown",
   "id": "cb1ddb01",
   "metadata": {},
   "source": [
    "<img src=\"./efficiency_updated.png\" width=\"650\" height=\"650\" align=\"center\"/>"
   ]
  }
 ],
 "metadata": {
  "kernelspec": {
   "display_name": "Python 3 (ipykernel)",
   "language": "python",
   "name": "python3"
  },
  "language_info": {
   "codemirror_mode": {
    "name": "ipython",
    "version": 3
   },
   "file_extension": ".py",
   "mimetype": "text/x-python",
   "name": "python",
   "nbconvert_exporter": "python",
   "pygments_lexer": "ipython3",
   "version": "3.8.8"
  }
 },
 "nbformat": 4,
 "nbformat_minor": 5
}
